{
 "cells": [
  {
   "cell_type": "markdown",
   "metadata": {},
   "source": [
    "### Ushbu qo'llanma pandas kutubxonasiga taaluqli misollar to'plamini taqdim etadi\n",
    "\n",
    "<br>\n",
    "<hr>\n",
    "<br>"
   ]
  },
  {
   "cell_type": "code",
   "execution_count": 1,
   "metadata": {},
   "outputs": [],
   "source": [
    "import pandas as pd"
   ]
  },
  {
   "cell_type": "markdown",
   "metadata": {},
   "source": [
    "##### Urinishlar bazasini excel faylidan o'qib olamiz"
   ]
  },
  {
   "cell_type": "code",
   "execution_count": 2,
   "metadata": {},
   "outputs": [
    {
     "data": {
      "text/html": [
       "<div>\n",
       "<style scoped>\n",
       "    .dataframe tbody tr th:only-of-type {\n",
       "        vertical-align: middle;\n",
       "    }\n",
       "\n",
       "    .dataframe tbody tr th {\n",
       "        vertical-align: top;\n",
       "    }\n",
       "\n",
       "    .dataframe thead th {\n",
       "        text-align: right;\n",
       "    }\n",
       "</style>\n",
       "<table border=\"1\" class=\"dataframe\">\n",
       "  <thead>\n",
       "    <tr style=\"text-align: right;\">\n",
       "      <th></th>\n",
       "      <th>id</th>\n",
       "      <th>user</th>\n",
       "      <th>problem_title</th>\n",
       "      <th>problem_difficulty</th>\n",
       "      <th>lang</th>\n",
       "      <th>verdict</th>\n",
       "      <th>test_case_number</th>\n",
       "      <th>time</th>\n",
       "      <th>memory</th>\n",
       "      <th>created</th>\n",
       "    </tr>\n",
       "  </thead>\n",
       "  <tbody>\n",
       "    <tr>\n",
       "      <th>0</th>\n",
       "      <td>4</td>\n",
       "      <td>nazarbek_baltabaev_2</td>\n",
       "      <td>Ikki sonni yig`indisi</td>\n",
       "      <td>Boshlangich</td>\n",
       "      <td>py</td>\n",
       "      <td>Qabul qilindi</td>\n",
       "      <td>1</td>\n",
       "      <td>0</td>\n",
       "      <td>0</td>\n",
       "      <td>2021-02-03 09:26:10</td>\n",
       "    </tr>\n",
       "    <tr>\n",
       "      <th>1</th>\n",
       "      <td>5</td>\n",
       "      <td>nazarbek_baltabaev_2</td>\n",
       "      <td>Ikki sonni yig`indisi</td>\n",
       "      <td>Boshlangich</td>\n",
       "      <td>py</td>\n",
       "      <td>Qabul qilindi</td>\n",
       "      <td>1</td>\n",
       "      <td>0</td>\n",
       "      <td>0</td>\n",
       "      <td>2021-02-03 09:26:10</td>\n",
       "    </tr>\n",
       "    <tr>\n",
       "      <th>2</th>\n",
       "      <td>6</td>\n",
       "      <td>TimurXboy</td>\n",
       "      <td>Ikki sonni yig`indisi</td>\n",
       "      <td>Boshlangich</td>\n",
       "      <td>py</td>\n",
       "      <td>Qabul qilindi</td>\n",
       "      <td>1</td>\n",
       "      <td>0</td>\n",
       "      <td>0</td>\n",
       "      <td>2021-02-03 09:26:10</td>\n",
       "    </tr>\n",
       "    <tr>\n",
       "      <th>3</th>\n",
       "      <td>7</td>\n",
       "      <td>rustam_ramanov</td>\n",
       "      <td>Ikki sonni yig`indisi</td>\n",
       "      <td>Boshlangich</td>\n",
       "      <td>py</td>\n",
       "      <td>Noto'g'ri javob</td>\n",
       "      <td>1</td>\n",
       "      <td>0</td>\n",
       "      <td>0</td>\n",
       "      <td>2021-02-03 09:26:10</td>\n",
       "    </tr>\n",
       "    <tr>\n",
       "      <th>4</th>\n",
       "      <td>8</td>\n",
       "      <td>TimurXboy</td>\n",
       "      <td>Ikki sonni yig`indisi</td>\n",
       "      <td>Boshlangich</td>\n",
       "      <td>py</td>\n",
       "      <td>Vaqt chegarasi oshib ketdi</td>\n",
       "      <td>1</td>\n",
       "      <td>0</td>\n",
       "      <td>0</td>\n",
       "      <td>2021-02-03 09:26:10</td>\n",
       "    </tr>\n",
       "    <tr>\n",
       "      <th>...</th>\n",
       "      <td>...</td>\n",
       "      <td>...</td>\n",
       "      <td>...</td>\n",
       "      <td>...</td>\n",
       "      <td>...</td>\n",
       "      <td>...</td>\n",
       "      <td>...</td>\n",
       "      <td>...</td>\n",
       "      <td>...</td>\n",
       "      <td>...</td>\n",
       "    </tr>\n",
       "    <tr>\n",
       "      <th>68803</th>\n",
       "      <td>69927</td>\n",
       "      <td>Ozodbek</td>\n",
       "      <td>Funksiyalar | add</td>\n",
       "      <td>Boshlangich</td>\n",
       "      <td>py</td>\n",
       "      <td>Ishlashdaki xatolik</td>\n",
       "      <td>1</td>\n",
       "      <td>10</td>\n",
       "      <td>6392</td>\n",
       "      <td>2022-07-22 06:58:50</td>\n",
       "    </tr>\n",
       "    <tr>\n",
       "      <th>68804</th>\n",
       "      <td>69928</td>\n",
       "      <td>Ozodbek</td>\n",
       "      <td>Funksiyalar | add</td>\n",
       "      <td>Boshlangich</td>\n",
       "      <td>py</td>\n",
       "      <td>Ishlashdaki xatolik</td>\n",
       "      <td>1</td>\n",
       "      <td>10</td>\n",
       "      <td>0</td>\n",
       "      <td>2022-07-22 06:59:31</td>\n",
       "    </tr>\n",
       "    <tr>\n",
       "      <th>68805</th>\n",
       "      <td>69929</td>\n",
       "      <td>Ozodbek</td>\n",
       "      <td>Funksiyalar | add</td>\n",
       "      <td>Boshlangich</td>\n",
       "      <td>py</td>\n",
       "      <td>Ishlashdaki xatolik</td>\n",
       "      <td>1</td>\n",
       "      <td>10</td>\n",
       "      <td>0</td>\n",
       "      <td>2022-07-22 07:00:40</td>\n",
       "    </tr>\n",
       "    <tr>\n",
       "      <th>68806</th>\n",
       "      <td>69930</td>\n",
       "      <td>Ozodbek</td>\n",
       "      <td>Funksiyalar | add</td>\n",
       "      <td>Boshlangich</td>\n",
       "      <td>py</td>\n",
       "      <td>Object not found</td>\n",
       "      <td>1</td>\n",
       "      <td>10</td>\n",
       "      <td>6484</td>\n",
       "      <td>2022-07-22 07:01:33</td>\n",
       "    </tr>\n",
       "    <tr>\n",
       "      <th>68807</th>\n",
       "      <td>69931</td>\n",
       "      <td>Ozodbek</td>\n",
       "      <td>Funksiyalar | add</td>\n",
       "      <td>Boshlangich</td>\n",
       "      <td>py</td>\n",
       "      <td>Ishlashdaki xatolik</td>\n",
       "      <td>1</td>\n",
       "      <td>1</td>\n",
       "      <td>6424</td>\n",
       "      <td>2022-07-22 07:02:12</td>\n",
       "    </tr>\n",
       "  </tbody>\n",
       "</table>\n",
       "<p>68808 rows × 10 columns</p>\n",
       "</div>"
      ],
      "text/plain": [
       "          id                  user          problem_title problem_difficulty  \\\n",
       "0          4  nazarbek_baltabaev_2  Ikki sonni yig`indisi        Boshlangich   \n",
       "1          5  nazarbek_baltabaev_2  Ikki sonni yig`indisi        Boshlangich   \n",
       "2          6             TimurXboy  Ikki sonni yig`indisi        Boshlangich   \n",
       "3          7        rustam_ramanov  Ikki sonni yig`indisi        Boshlangich   \n",
       "4          8             TimurXboy  Ikki sonni yig`indisi        Boshlangich   \n",
       "...      ...                   ...                    ...                ...   \n",
       "68803  69927               Ozodbek      Funksiyalar | add        Boshlangich   \n",
       "68804  69928               Ozodbek      Funksiyalar | add        Boshlangich   \n",
       "68805  69929               Ozodbek      Funksiyalar | add        Boshlangich   \n",
       "68806  69930               Ozodbek      Funksiyalar | add        Boshlangich   \n",
       "68807  69931               Ozodbek      Funksiyalar | add        Boshlangich   \n",
       "\n",
       "      lang                     verdict  test_case_number  time  memory  \\\n",
       "0       py               Qabul qilindi                 1     0       0   \n",
       "1       py               Qabul qilindi                 1     0       0   \n",
       "2       py               Qabul qilindi                 1     0       0   \n",
       "3       py             Noto'g'ri javob                 1     0       0   \n",
       "4       py  Vaqt chegarasi oshib ketdi                 1     0       0   \n",
       "...    ...                         ...               ...   ...     ...   \n",
       "68803   py         Ishlashdaki xatolik                 1    10    6392   \n",
       "68804   py         Ishlashdaki xatolik                 1    10       0   \n",
       "68805   py         Ishlashdaki xatolik                 1    10       0   \n",
       "68806   py            Object not found                 1    10    6484   \n",
       "68807   py         Ishlashdaki xatolik                 1     1    6424   \n",
       "\n",
       "                   created  \n",
       "0      2021-02-03 09:26:10  \n",
       "1      2021-02-03 09:26:10  \n",
       "2      2021-02-03 09:26:10  \n",
       "3      2021-02-03 09:26:10  \n",
       "4      2021-02-03 09:26:10  \n",
       "...                    ...  \n",
       "68803  2022-07-22 06:58:50  \n",
       "68804  2022-07-22 06:59:31  \n",
       "68805  2022-07-22 07:00:40  \n",
       "68806  2022-07-22 07:01:33  \n",
       "68807  2022-07-22 07:02:12  \n",
       "\n",
       "[68808 rows x 10 columns]"
      ]
     },
     "execution_count": 2,
     "metadata": {},
     "output_type": "execute_result"
    }
   ],
   "source": [
    "df = pd.read_excel('attempts.xlsx', 'Sheet')\n",
    "df"
   ]
  },
  {
   "cell_type": "markdown",
   "metadata": {},
   "source": [
    "<br>\n",
    "\n",
    "##### Dastlabki <b>10 ta</b> yozuvni chiqarish"
   ]
  },
  {
   "cell_type": "code",
   "execution_count": 3,
   "metadata": {},
   "outputs": [
    {
     "data": {
      "text/html": [
       "<div>\n",
       "<style scoped>\n",
       "    .dataframe tbody tr th:only-of-type {\n",
       "        vertical-align: middle;\n",
       "    }\n",
       "\n",
       "    .dataframe tbody tr th {\n",
       "        vertical-align: top;\n",
       "    }\n",
       "\n",
       "    .dataframe thead th {\n",
       "        text-align: right;\n",
       "    }\n",
       "</style>\n",
       "<table border=\"1\" class=\"dataframe\">\n",
       "  <thead>\n",
       "    <tr style=\"text-align: right;\">\n",
       "      <th></th>\n",
       "      <th>id</th>\n",
       "      <th>user</th>\n",
       "      <th>problem_title</th>\n",
       "      <th>problem_difficulty</th>\n",
       "      <th>lang</th>\n",
       "      <th>verdict</th>\n",
       "      <th>test_case_number</th>\n",
       "      <th>time</th>\n",
       "      <th>memory</th>\n",
       "      <th>created</th>\n",
       "    </tr>\n",
       "  </thead>\n",
       "  <tbody>\n",
       "    <tr>\n",
       "      <th>0</th>\n",
       "      <td>4</td>\n",
       "      <td>nazarbek_baltabaev_2</td>\n",
       "      <td>Ikki sonni yig`indisi</td>\n",
       "      <td>Boshlangich</td>\n",
       "      <td>py</td>\n",
       "      <td>Qabul qilindi</td>\n",
       "      <td>1</td>\n",
       "      <td>0</td>\n",
       "      <td>0</td>\n",
       "      <td>2021-02-03 09:26:10</td>\n",
       "    </tr>\n",
       "    <tr>\n",
       "      <th>1</th>\n",
       "      <td>5</td>\n",
       "      <td>nazarbek_baltabaev_2</td>\n",
       "      <td>Ikki sonni yig`indisi</td>\n",
       "      <td>Boshlangich</td>\n",
       "      <td>py</td>\n",
       "      <td>Qabul qilindi</td>\n",
       "      <td>1</td>\n",
       "      <td>0</td>\n",
       "      <td>0</td>\n",
       "      <td>2021-02-03 09:26:10</td>\n",
       "    </tr>\n",
       "    <tr>\n",
       "      <th>2</th>\n",
       "      <td>6</td>\n",
       "      <td>TimurXboy</td>\n",
       "      <td>Ikki sonni yig`indisi</td>\n",
       "      <td>Boshlangich</td>\n",
       "      <td>py</td>\n",
       "      <td>Qabul qilindi</td>\n",
       "      <td>1</td>\n",
       "      <td>0</td>\n",
       "      <td>0</td>\n",
       "      <td>2021-02-03 09:26:10</td>\n",
       "    </tr>\n",
       "    <tr>\n",
       "      <th>3</th>\n",
       "      <td>7</td>\n",
       "      <td>rustam_ramanov</td>\n",
       "      <td>Ikki sonni yig`indisi</td>\n",
       "      <td>Boshlangich</td>\n",
       "      <td>py</td>\n",
       "      <td>Noto'g'ri javob</td>\n",
       "      <td>1</td>\n",
       "      <td>0</td>\n",
       "      <td>0</td>\n",
       "      <td>2021-02-03 09:26:10</td>\n",
       "    </tr>\n",
       "    <tr>\n",
       "      <th>4</th>\n",
       "      <td>8</td>\n",
       "      <td>TimurXboy</td>\n",
       "      <td>Ikki sonni yig`indisi</td>\n",
       "      <td>Boshlangich</td>\n",
       "      <td>py</td>\n",
       "      <td>Vaqt chegarasi oshib ketdi</td>\n",
       "      <td>1</td>\n",
       "      <td>0</td>\n",
       "      <td>0</td>\n",
       "      <td>2021-02-03 09:26:10</td>\n",
       "    </tr>\n",
       "    <tr>\n",
       "      <th>5</th>\n",
       "      <td>9</td>\n",
       "      <td>TimurXboy</td>\n",
       "      <td>Ikki sonni yig`indisi</td>\n",
       "      <td>Boshlangich</td>\n",
       "      <td>py</td>\n",
       "      <td>Ishlashdaki xatolik</td>\n",
       "      <td>1</td>\n",
       "      <td>0</td>\n",
       "      <td>0</td>\n",
       "      <td>2021-02-03 09:26:10</td>\n",
       "    </tr>\n",
       "    <tr>\n",
       "      <th>6</th>\n",
       "      <td>10</td>\n",
       "      <td>TimurXboy</td>\n",
       "      <td>Ikki sonni yig`indisi</td>\n",
       "      <td>Boshlangich</td>\n",
       "      <td>py</td>\n",
       "      <td>Ishlashdaki xatolik</td>\n",
       "      <td>1</td>\n",
       "      <td>0</td>\n",
       "      <td>0</td>\n",
       "      <td>2021-02-03 09:26:10</td>\n",
       "    </tr>\n",
       "    <tr>\n",
       "      <th>7</th>\n",
       "      <td>11</td>\n",
       "      <td>doniyor_samandarov</td>\n",
       "      <td>Ikki sonni yig`indisi</td>\n",
       "      <td>Boshlangich</td>\n",
       "      <td>py</td>\n",
       "      <td>Qabul qilindi</td>\n",
       "      <td>1</td>\n",
       "      <td>0</td>\n",
       "      <td>0</td>\n",
       "      <td>2021-02-03 09:26:10</td>\n",
       "    </tr>\n",
       "    <tr>\n",
       "      <th>8</th>\n",
       "      <td>12</td>\n",
       "      <td>TimurXboy</td>\n",
       "      <td>Ikki sonni yig`indisi</td>\n",
       "      <td>Boshlangich</td>\n",
       "      <td>py</td>\n",
       "      <td>Ishlashdaki xatolik</td>\n",
       "      <td>1</td>\n",
       "      <td>0</td>\n",
       "      <td>0</td>\n",
       "      <td>2021-02-03 09:26:10</td>\n",
       "    </tr>\n",
       "    <tr>\n",
       "      <th>9</th>\n",
       "      <td>13</td>\n",
       "      <td>doniyor_samandarov</td>\n",
       "      <td>Ikki sonni yig`indisi</td>\n",
       "      <td>Boshlangich</td>\n",
       "      <td>py</td>\n",
       "      <td>Vaqt chegarasi oshib ketdi</td>\n",
       "      <td>1</td>\n",
       "      <td>0</td>\n",
       "      <td>0</td>\n",
       "      <td>2021-02-03 09:26:10</td>\n",
       "    </tr>\n",
       "  </tbody>\n",
       "</table>\n",
       "</div>"
      ],
      "text/plain": [
       "   id                  user          problem_title problem_difficulty lang  \\\n",
       "0   4  nazarbek_baltabaev_2  Ikki sonni yig`indisi        Boshlangich   py   \n",
       "1   5  nazarbek_baltabaev_2  Ikki sonni yig`indisi        Boshlangich   py   \n",
       "2   6             TimurXboy  Ikki sonni yig`indisi        Boshlangich   py   \n",
       "3   7        rustam_ramanov  Ikki sonni yig`indisi        Boshlangich   py   \n",
       "4   8             TimurXboy  Ikki sonni yig`indisi        Boshlangich   py   \n",
       "5   9             TimurXboy  Ikki sonni yig`indisi        Boshlangich   py   \n",
       "6  10             TimurXboy  Ikki sonni yig`indisi        Boshlangich   py   \n",
       "7  11    doniyor_samandarov  Ikki sonni yig`indisi        Boshlangich   py   \n",
       "8  12             TimurXboy  Ikki sonni yig`indisi        Boshlangich   py   \n",
       "9  13    doniyor_samandarov  Ikki sonni yig`indisi        Boshlangich   py   \n",
       "\n",
       "                      verdict  test_case_number  time  memory  \\\n",
       "0               Qabul qilindi                 1     0       0   \n",
       "1               Qabul qilindi                 1     0       0   \n",
       "2               Qabul qilindi                 1     0       0   \n",
       "3             Noto'g'ri javob                 1     0       0   \n",
       "4  Vaqt chegarasi oshib ketdi                 1     0       0   \n",
       "5         Ishlashdaki xatolik                 1     0       0   \n",
       "6         Ishlashdaki xatolik                 1     0       0   \n",
       "7               Qabul qilindi                 1     0       0   \n",
       "8         Ishlashdaki xatolik                 1     0       0   \n",
       "9  Vaqt chegarasi oshib ketdi                 1     0       0   \n",
       "\n",
       "               created  \n",
       "0  2021-02-03 09:26:10  \n",
       "1  2021-02-03 09:26:10  \n",
       "2  2021-02-03 09:26:10  \n",
       "3  2021-02-03 09:26:10  \n",
       "4  2021-02-03 09:26:10  \n",
       "5  2021-02-03 09:26:10  \n",
       "6  2021-02-03 09:26:10  \n",
       "7  2021-02-03 09:26:10  \n",
       "8  2021-02-03 09:26:10  \n",
       "9  2021-02-03 09:26:10  "
      ]
     },
     "execution_count": 3,
     "metadata": {},
     "output_type": "execute_result"
    }
   ],
   "source": [
    "df.head(10)"
   ]
  },
  {
   "cell_type": "markdown",
   "metadata": {},
   "source": [
    "<br>\n",
    "\n",
    "##### Ohirgi yozuvni chiqarish"
   ]
  },
  {
   "cell_type": "code",
   "execution_count": 4,
   "metadata": {},
   "outputs": [
    {
     "data": {
      "text/html": [
       "<div>\n",
       "<style scoped>\n",
       "    .dataframe tbody tr th:only-of-type {\n",
       "        vertical-align: middle;\n",
       "    }\n",
       "\n",
       "    .dataframe tbody tr th {\n",
       "        vertical-align: top;\n",
       "    }\n",
       "\n",
       "    .dataframe thead th {\n",
       "        text-align: right;\n",
       "    }\n",
       "</style>\n",
       "<table border=\"1\" class=\"dataframe\">\n",
       "  <thead>\n",
       "    <tr style=\"text-align: right;\">\n",
       "      <th></th>\n",
       "      <th>id</th>\n",
       "      <th>user</th>\n",
       "      <th>problem_title</th>\n",
       "      <th>problem_difficulty</th>\n",
       "      <th>lang</th>\n",
       "      <th>verdict</th>\n",
       "      <th>test_case_number</th>\n",
       "      <th>time</th>\n",
       "      <th>memory</th>\n",
       "      <th>created</th>\n",
       "    </tr>\n",
       "  </thead>\n",
       "  <tbody>\n",
       "    <tr>\n",
       "      <th>68807</th>\n",
       "      <td>69931</td>\n",
       "      <td>Ozodbek</td>\n",
       "      <td>Funksiyalar | add</td>\n",
       "      <td>Boshlangich</td>\n",
       "      <td>py</td>\n",
       "      <td>Ishlashdaki xatolik</td>\n",
       "      <td>1</td>\n",
       "      <td>1</td>\n",
       "      <td>6424</td>\n",
       "      <td>2022-07-22 07:02:12</td>\n",
       "    </tr>\n",
       "  </tbody>\n",
       "</table>\n",
       "</div>"
      ],
      "text/plain": [
       "          id     user      problem_title problem_difficulty lang  \\\n",
       "68807  69931  Ozodbek  Funksiyalar | add        Boshlangich   py   \n",
       "\n",
       "                   verdict  test_case_number  time  memory  \\\n",
       "68807  Ishlashdaki xatolik                 1     1    6424   \n",
       "\n",
       "                   created  \n",
       "68807  2022-07-22 07:02:12  "
      ]
     },
     "execution_count": 4,
     "metadata": {},
     "output_type": "execute_result"
    }
   ],
   "source": [
    "df.tail(1)"
   ]
  },
  {
   "cell_type": "markdown",
   "metadata": {},
   "source": [
    "<br>\n",
    "\n",
    "##### <b>id</b> ustunini olish. Qaytarilgan obyekt <b>Series</b> turida bo'ladi"
   ]
  },
  {
   "cell_type": "code",
   "execution_count": 5,
   "metadata": {},
   "outputs": [
    {
     "data": {
      "text/plain": [
       "0            4\n",
       "1            5\n",
       "2            6\n",
       "3            7\n",
       "4            8\n",
       "         ...  \n",
       "68803    69927\n",
       "68804    69928\n",
       "68805    69929\n",
       "68806    69930\n",
       "68807    69931\n",
       "Name: id, Length: 68808, dtype: int64"
      ]
     },
     "execution_count": 5,
     "metadata": {},
     "output_type": "execute_result"
    }
   ],
   "source": [
    "df['id']"
   ]
  },
  {
   "cell_type": "markdown",
   "metadata": {},
   "source": [
    "<br>\n",
    "\n",
    "##### Foydalanuvchi nomini uzunliklarini olish"
   ]
  },
  {
   "cell_type": "code",
   "execution_count": 6,
   "metadata": {},
   "outputs": [
    {
     "data": {
      "text/plain": [
       "0        20\n",
       "1        20\n",
       "2         9\n",
       "3        14\n",
       "4         9\n",
       "         ..\n",
       "68803     7\n",
       "68804     7\n",
       "68805     7\n",
       "68806     7\n",
       "68807     7\n",
       "Name: user, Length: 68808, dtype: int64"
      ]
     },
     "execution_count": 6,
     "metadata": {},
     "output_type": "execute_result"
    }
   ],
   "source": [
    "df['user'].map(lambda value: len(value))"
   ]
  },
  {
   "cell_type": "markdown",
   "metadata": {},
   "source": [
    "<br>\n",
    "\n",
    "##### <b>2 ta</b> ustunni olish"
   ]
  },
  {
   "cell_type": "code",
   "execution_count": 7,
   "metadata": {},
   "outputs": [
    {
     "data": {
      "text/html": [
       "<div>\n",
       "<style scoped>\n",
       "    .dataframe tbody tr th:only-of-type {\n",
       "        vertical-align: middle;\n",
       "    }\n",
       "\n",
       "    .dataframe tbody tr th {\n",
       "        vertical-align: top;\n",
       "    }\n",
       "\n",
       "    .dataframe thead th {\n",
       "        text-align: right;\n",
       "    }\n",
       "</style>\n",
       "<table border=\"1\" class=\"dataframe\">\n",
       "  <thead>\n",
       "    <tr style=\"text-align: right;\">\n",
       "      <th></th>\n",
       "      <th>id</th>\n",
       "      <th>user</th>\n",
       "    </tr>\n",
       "  </thead>\n",
       "  <tbody>\n",
       "    <tr>\n",
       "      <th>0</th>\n",
       "      <td>4</td>\n",
       "      <td>nazarbek_baltabaev_2</td>\n",
       "    </tr>\n",
       "    <tr>\n",
       "      <th>1</th>\n",
       "      <td>5</td>\n",
       "      <td>nazarbek_baltabaev_2</td>\n",
       "    </tr>\n",
       "    <tr>\n",
       "      <th>2</th>\n",
       "      <td>6</td>\n",
       "      <td>TimurXboy</td>\n",
       "    </tr>\n",
       "    <tr>\n",
       "      <th>3</th>\n",
       "      <td>7</td>\n",
       "      <td>rustam_ramanov</td>\n",
       "    </tr>\n",
       "    <tr>\n",
       "      <th>4</th>\n",
       "      <td>8</td>\n",
       "      <td>TimurXboy</td>\n",
       "    </tr>\n",
       "    <tr>\n",
       "      <th>...</th>\n",
       "      <td>...</td>\n",
       "      <td>...</td>\n",
       "    </tr>\n",
       "    <tr>\n",
       "      <th>68803</th>\n",
       "      <td>69927</td>\n",
       "      <td>Ozodbek</td>\n",
       "    </tr>\n",
       "    <tr>\n",
       "      <th>68804</th>\n",
       "      <td>69928</td>\n",
       "      <td>Ozodbek</td>\n",
       "    </tr>\n",
       "    <tr>\n",
       "      <th>68805</th>\n",
       "      <td>69929</td>\n",
       "      <td>Ozodbek</td>\n",
       "    </tr>\n",
       "    <tr>\n",
       "      <th>68806</th>\n",
       "      <td>69930</td>\n",
       "      <td>Ozodbek</td>\n",
       "    </tr>\n",
       "    <tr>\n",
       "      <th>68807</th>\n",
       "      <td>69931</td>\n",
       "      <td>Ozodbek</td>\n",
       "    </tr>\n",
       "  </tbody>\n",
       "</table>\n",
       "<p>68808 rows × 2 columns</p>\n",
       "</div>"
      ],
      "text/plain": [
       "          id                  user\n",
       "0          4  nazarbek_baltabaev_2\n",
       "1          5  nazarbek_baltabaev_2\n",
       "2          6             TimurXboy\n",
       "3          7        rustam_ramanov\n",
       "4          8             TimurXboy\n",
       "...      ...                   ...\n",
       "68803  69927               Ozodbek\n",
       "68804  69928               Ozodbek\n",
       "68805  69929               Ozodbek\n",
       "68806  69930               Ozodbek\n",
       "68807  69931               Ozodbek\n",
       "\n",
       "[68808 rows x 2 columns]"
      ]
     },
     "execution_count": 7,
     "metadata": {},
     "output_type": "execute_result"
    }
   ],
   "source": [
    "df[['id', 'user']]"
   ]
  },
  {
   "cell_type": "markdown",
   "metadata": {},
   "source": [
    "<br>\n",
    "\n",
    "##### Yangi ustun qo'shish"
   ]
  },
  {
   "cell_type": "code",
   "execution_count": 8,
   "metadata": {},
   "outputs": [
    {
     "data": {
      "text/html": [
       "<div>\n",
       "<style scoped>\n",
       "    .dataframe tbody tr th:only-of-type {\n",
       "        vertical-align: middle;\n",
       "    }\n",
       "\n",
       "    .dataframe tbody tr th {\n",
       "        vertical-align: top;\n",
       "    }\n",
       "\n",
       "    .dataframe thead th {\n",
       "        text-align: right;\n",
       "    }\n",
       "</style>\n",
       "<table border=\"1\" class=\"dataframe\">\n",
       "  <thead>\n",
       "    <tr style=\"text-align: right;\">\n",
       "      <th></th>\n",
       "      <th>id</th>\n",
       "      <th>user</th>\n",
       "      <th>length</th>\n",
       "    </tr>\n",
       "  </thead>\n",
       "  <tbody>\n",
       "    <tr>\n",
       "      <th>0</th>\n",
       "      <td>4</td>\n",
       "      <td>nazarbek_baltabaev_2</td>\n",
       "      <td>20</td>\n",
       "    </tr>\n",
       "    <tr>\n",
       "      <th>1</th>\n",
       "      <td>5</td>\n",
       "      <td>nazarbek_baltabaev_2</td>\n",
       "      <td>20</td>\n",
       "    </tr>\n",
       "    <tr>\n",
       "      <th>2</th>\n",
       "      <td>6</td>\n",
       "      <td>TimurXboy</td>\n",
       "      <td>9</td>\n",
       "    </tr>\n",
       "    <tr>\n",
       "      <th>3</th>\n",
       "      <td>7</td>\n",
       "      <td>rustam_ramanov</td>\n",
       "      <td>14</td>\n",
       "    </tr>\n",
       "    <tr>\n",
       "      <th>4</th>\n",
       "      <td>8</td>\n",
       "      <td>TimurXboy</td>\n",
       "      <td>9</td>\n",
       "    </tr>\n",
       "    <tr>\n",
       "      <th>...</th>\n",
       "      <td>...</td>\n",
       "      <td>...</td>\n",
       "      <td>...</td>\n",
       "    </tr>\n",
       "    <tr>\n",
       "      <th>68803</th>\n",
       "      <td>69927</td>\n",
       "      <td>Ozodbek</td>\n",
       "      <td>7</td>\n",
       "    </tr>\n",
       "    <tr>\n",
       "      <th>68804</th>\n",
       "      <td>69928</td>\n",
       "      <td>Ozodbek</td>\n",
       "      <td>7</td>\n",
       "    </tr>\n",
       "    <tr>\n",
       "      <th>68805</th>\n",
       "      <td>69929</td>\n",
       "      <td>Ozodbek</td>\n",
       "      <td>7</td>\n",
       "    </tr>\n",
       "    <tr>\n",
       "      <th>68806</th>\n",
       "      <td>69930</td>\n",
       "      <td>Ozodbek</td>\n",
       "      <td>7</td>\n",
       "    </tr>\n",
       "    <tr>\n",
       "      <th>68807</th>\n",
       "      <td>69931</td>\n",
       "      <td>Ozodbek</td>\n",
       "      <td>7</td>\n",
       "    </tr>\n",
       "  </tbody>\n",
       "</table>\n",
       "<p>68808 rows × 3 columns</p>\n",
       "</div>"
      ],
      "text/plain": [
       "          id                  user  length\n",
       "0          4  nazarbek_baltabaev_2      20\n",
       "1          5  nazarbek_baltabaev_2      20\n",
       "2          6             TimurXboy       9\n",
       "3          7        rustam_ramanov      14\n",
       "4          8             TimurXboy       9\n",
       "...      ...                   ...     ...\n",
       "68803  69927               Ozodbek       7\n",
       "68804  69928               Ozodbek       7\n",
       "68805  69929               Ozodbek       7\n",
       "68806  69930               Ozodbek       7\n",
       "68807  69931               Ozodbek       7\n",
       "\n",
       "[68808 rows x 3 columns]"
      ]
     },
     "execution_count": 8,
     "metadata": {},
     "output_type": "execute_result"
    }
   ],
   "source": [
    "df2 = df[['id', 'user']].copy()\n",
    "df2['length'] = df2['user'].map(lambda value: len(value))\n",
    "df2"
   ]
  },
  {
   "cell_type": "markdown",
   "metadata": {},
   "source": [
    "<br>\n",
    "\n",
    "##### Qancha takrorlanmas foydalanuvchi borligini hisoblaymiz"
   ]
  },
  {
   "cell_type": "code",
   "execution_count": 9,
   "metadata": {},
   "outputs": [
    {
     "data": {
      "text/plain": [
       "815"
      ]
     },
     "execution_count": 9,
     "metadata": {},
     "output_type": "execute_result"
    }
   ],
   "source": [
    "df['user'].unique().size"
   ]
  },
  {
   "cell_type": "markdown",
   "metadata": {},
   "source": [
    "<br>\n",
    "\n",
    "##### <b>memory</b> ustuni qiymatini <b>1024</b> ga bo'lamiz"
   ]
  },
  {
   "cell_type": "code",
   "execution_count": 10,
   "metadata": {},
   "outputs": [
    {
     "data": {
      "text/plain": [
       "0        0.000000\n",
       "1        0.000000\n",
       "2        0.000000\n",
       "3        0.000000\n",
       "4        0.000000\n",
       "           ...   \n",
       "68803    6.242188\n",
       "68804    0.000000\n",
       "68805    0.000000\n",
       "68806    6.332031\n",
       "68807    6.273438\n",
       "Name: memory, Length: 68808, dtype: float64"
      ]
     },
     "execution_count": 10,
     "metadata": {},
     "output_type": "execute_result"
    }
   ],
   "source": [
    "df['memory'] / 1024"
   ]
  },
  {
   "cell_type": "markdown",
   "metadata": {},
   "source": [
    "<br>\n",
    "\n",
    "##### Qabul qilinmagan nechta urinish borligini hisoblaymiz"
   ]
  },
  {
   "cell_type": "code",
   "execution_count": 11,
   "metadata": {},
   "outputs": [
    {
     "data": {
      "text/plain": [
       "36202"
      ]
     },
     "execution_count": 11,
     "metadata": {},
     "output_type": "execute_result"
    }
   ],
   "source": [
    "(df['verdict'] != 'Qabul qilindi').sum()"
   ]
  },
  {
   "cell_type": "markdown",
   "metadata": {},
   "source": [
    "<br>\n",
    "\n",
    "##### Qabul qilinmagan urinishlar orasida <b>test_case_number</b> qiymati eng katta bo'lgan qatorni topamiz"
   ]
  },
  {
   "cell_type": "code",
   "execution_count": 12,
   "metadata": {},
   "outputs": [
    {
     "data": {
      "text/html": [
       "<div>\n",
       "<style scoped>\n",
       "    .dataframe tbody tr th:only-of-type {\n",
       "        vertical-align: middle;\n",
       "    }\n",
       "\n",
       "    .dataframe tbody tr th {\n",
       "        vertical-align: top;\n",
       "    }\n",
       "\n",
       "    .dataframe thead th {\n",
       "        text-align: right;\n",
       "    }\n",
       "</style>\n",
       "<table border=\"1\" class=\"dataframe\">\n",
       "  <thead>\n",
       "    <tr style=\"text-align: right;\">\n",
       "      <th></th>\n",
       "      <th>id</th>\n",
       "      <th>user</th>\n",
       "      <th>problem_title</th>\n",
       "      <th>problem_difficulty</th>\n",
       "      <th>lang</th>\n",
       "      <th>verdict</th>\n",
       "      <th>test_case_number</th>\n",
       "      <th>time</th>\n",
       "      <th>memory</th>\n",
       "      <th>created</th>\n",
       "    </tr>\n",
       "  </thead>\n",
       "  <tbody>\n",
       "    <tr>\n",
       "      <th>54655</th>\n",
       "      <td>55719</td>\n",
       "      <td>Dasturchi</td>\n",
       "      <td>Antimasala #2</td>\n",
       "      <td>Normal</td>\n",
       "      <td>py</td>\n",
       "      <td>Noto'g'ri javob</td>\n",
       "      <td>998</td>\n",
       "      <td>0</td>\n",
       "      <td>0</td>\n",
       "      <td>2022-04-01 15:37:15</td>\n",
       "    </tr>\n",
       "  </tbody>\n",
       "</table>\n",
       "</div>"
      ],
      "text/plain": [
       "          id       user  problem_title problem_difficulty lang  \\\n",
       "54655  55719  Dasturchi  Antimasala #2             Normal   py   \n",
       "\n",
       "               verdict  test_case_number  time  memory              created  \n",
       "54655  Noto'g'ri javob               998     0       0  2022-04-01 15:37:15  "
      ]
     },
     "execution_count": 12,
     "metadata": {},
     "output_type": "execute_result"
    }
   ],
   "source": [
    "max_test_case_number = df[df['verdict'] != 'Qabul qilindi']['test_case_number'].max()\n",
    "df[df['test_case_number'] == max_test_case_number]"
   ]
  },
  {
   "cell_type": "markdown",
   "metadata": {},
   "source": [
    "<br>\n",
    "\n",
    "##### Eng ko'p va eng kam urinish qilingan masalalarni topamiz"
   ]
  },
  {
   "cell_type": "code",
   "execution_count": 13,
   "metadata": {},
   "outputs": [
    {
     "data": {
      "text/plain": [
       "problem_title\n",
       "\"Hello, Python'            414\n",
       "0 ga eng yaqini #1         116\n",
       "0 ga eng yaqini #2         152\n",
       "0 ga eng yaqini #3         122\n",
       "1 marta uchragan son #1     81\n",
       "                          ... \n",
       "tkinter | set_size #1        9\n",
       "tkinter | set_size #2        6\n",
       "tkinter | set_title         10\n",
       "Самовлюбленные числа #1     36\n",
       "Самовлюбленные числа #2     22\n",
       "Name: id, Length: 1228, dtype: int64"
      ]
     },
     "execution_count": 13,
     "metadata": {},
     "output_type": "execute_result"
    }
   ],
   "source": [
    "s = df.groupby(['problem_title'])['id'].count()\n",
    "s"
   ]
  },
  {
   "cell_type": "code",
   "execution_count": 14,
   "metadata": {},
   "outputs": [
    {
     "data": {
      "text/plain": [
       "problem_title\n",
       "Ikki sonni yig`indisi    1293\n",
       "Name: id, dtype: int64"
      ]
     },
     "execution_count": 14,
     "metadata": {},
     "output_type": "execute_result"
    }
   ],
   "source": [
    "s[s == s.max()]"
   ]
  },
  {
   "cell_type": "code",
   "execution_count": 15,
   "metadata": {},
   "outputs": [
    {
     "data": {
      "text/plain": [
       "problem_title\n",
       "Darajalar #2                       1\n",
       "HTML 18                            1\n",
       "Maksimal GCD #2                    1\n",
       "Multithread | Matrix               1\n",
       "Nochiziqli tenglama                1\n",
       "Pandas | Series | get_mean         1\n",
       "Pandas | Series | get_peak_locs    1\n",
       "Parsing |  openpyxl | moex.com     1\n",
       "Qoplash                            1\n",
       "Regex | O'zgaruvchini nomlash      1\n",
       "Shoxzod va frilanser #3            1\n",
       "Sonlar ketma-ketligi               1\n",
       "tkinter | set_entry_text           1\n",
       "Name: id, dtype: int64"
      ]
     },
     "execution_count": 15,
     "metadata": {},
     "output_type": "execute_result"
    }
   ],
   "source": [
    "s[s == s.min()]"
   ]
  },
  {
   "cell_type": "markdown",
   "metadata": {},
   "source": [
    "<br>\n",
    "\n",
    "##### Har bir masalani qancha foydalanuvchi(takrorlanmas) ishlaganini hisoblaymiz"
   ]
  },
  {
   "cell_type": "markdown",
   "metadata": {},
   "source": [
    "Dastlab har bir masala va foydalanuvchi takrorlangan natijalarni olib tashlaymiz"
   ]
  },
  {
   "cell_type": "code",
   "execution_count": 16,
   "metadata": {},
   "outputs": [
    {
     "data": {
      "text/html": [
       "<div>\n",
       "<style scoped>\n",
       "    .dataframe tbody tr th:only-of-type {\n",
       "        vertical-align: middle;\n",
       "    }\n",
       "\n",
       "    .dataframe tbody tr th {\n",
       "        vertical-align: top;\n",
       "    }\n",
       "\n",
       "    .dataframe thead th {\n",
       "        text-align: right;\n",
       "    }\n",
       "</style>\n",
       "<table border=\"1\" class=\"dataframe\">\n",
       "  <thead>\n",
       "    <tr style=\"text-align: right;\">\n",
       "      <th></th>\n",
       "      <th>id</th>\n",
       "      <th>user</th>\n",
       "      <th>problem_title</th>\n",
       "      <th>problem_difficulty</th>\n",
       "      <th>lang</th>\n",
       "      <th>verdict</th>\n",
       "      <th>test_case_number</th>\n",
       "      <th>time</th>\n",
       "      <th>memory</th>\n",
       "      <th>created</th>\n",
       "    </tr>\n",
       "  </thead>\n",
       "  <tbody>\n",
       "    <tr>\n",
       "      <th>0</th>\n",
       "      <td>4</td>\n",
       "      <td>nazarbek_baltabaev_2</td>\n",
       "      <td>Ikki sonni yig`indisi</td>\n",
       "      <td>Boshlangich</td>\n",
       "      <td>py</td>\n",
       "      <td>Qabul qilindi</td>\n",
       "      <td>1</td>\n",
       "      <td>0</td>\n",
       "      <td>0</td>\n",
       "      <td>2021-02-03 09:26:10</td>\n",
       "    </tr>\n",
       "    <tr>\n",
       "      <th>2</th>\n",
       "      <td>6</td>\n",
       "      <td>TimurXboy</td>\n",
       "      <td>Ikki sonni yig`indisi</td>\n",
       "      <td>Boshlangich</td>\n",
       "      <td>py</td>\n",
       "      <td>Qabul qilindi</td>\n",
       "      <td>1</td>\n",
       "      <td>0</td>\n",
       "      <td>0</td>\n",
       "      <td>2021-02-03 09:26:10</td>\n",
       "    </tr>\n",
       "    <tr>\n",
       "      <th>3</th>\n",
       "      <td>7</td>\n",
       "      <td>rustam_ramanov</td>\n",
       "      <td>Ikki sonni yig`indisi</td>\n",
       "      <td>Boshlangich</td>\n",
       "      <td>py</td>\n",
       "      <td>Noto'g'ri javob</td>\n",
       "      <td>1</td>\n",
       "      <td>0</td>\n",
       "      <td>0</td>\n",
       "      <td>2021-02-03 09:26:10</td>\n",
       "    </tr>\n",
       "    <tr>\n",
       "      <th>4</th>\n",
       "      <td>8</td>\n",
       "      <td>TimurXboy</td>\n",
       "      <td>Ikki sonni yig`indisi</td>\n",
       "      <td>Boshlangich</td>\n",
       "      <td>py</td>\n",
       "      <td>Vaqt chegarasi oshib ketdi</td>\n",
       "      <td>1</td>\n",
       "      <td>0</td>\n",
       "      <td>0</td>\n",
       "      <td>2021-02-03 09:26:10</td>\n",
       "    </tr>\n",
       "    <tr>\n",
       "      <th>5</th>\n",
       "      <td>9</td>\n",
       "      <td>TimurXboy</td>\n",
       "      <td>Ikki sonni yig`indisi</td>\n",
       "      <td>Boshlangich</td>\n",
       "      <td>py</td>\n",
       "      <td>Ishlashdaki xatolik</td>\n",
       "      <td>1</td>\n",
       "      <td>0</td>\n",
       "      <td>0</td>\n",
       "      <td>2021-02-03 09:26:10</td>\n",
       "    </tr>\n",
       "    <tr>\n",
       "      <th>...</th>\n",
       "      <td>...</td>\n",
       "      <td>...</td>\n",
       "      <td>...</td>\n",
       "      <td>...</td>\n",
       "      <td>...</td>\n",
       "      <td>...</td>\n",
       "      <td>...</td>\n",
       "      <td>...</td>\n",
       "      <td>...</td>\n",
       "      <td>...</td>\n",
       "    </tr>\n",
       "    <tr>\n",
       "      <th>68798</th>\n",
       "      <td>69922</td>\n",
       "      <td>Ozodbek</td>\n",
       "      <td>4 va 6 yoki 5</td>\n",
       "      <td>Normal</td>\n",
       "      <td>py</td>\n",
       "      <td>Qabul qilindi</td>\n",
       "      <td>4</td>\n",
       "      <td>10</td>\n",
       "      <td>6156</td>\n",
       "      <td>2022-07-22 06:38:14</td>\n",
       "    </tr>\n",
       "    <tr>\n",
       "      <th>68799</th>\n",
       "      <td>69923</td>\n",
       "      <td>Ozodbek</td>\n",
       "      <td>Tenglamalar sistemasi</td>\n",
       "      <td>Asoslar</td>\n",
       "      <td>py</td>\n",
       "      <td>Qabul qilindi</td>\n",
       "      <td>3</td>\n",
       "      <td>10</td>\n",
       "      <td>6252</td>\n",
       "      <td>2022-07-22 06:46:37</td>\n",
       "    </tr>\n",
       "    <tr>\n",
       "      <th>68800</th>\n",
       "      <td>69924</td>\n",
       "      <td>Ozodbek</td>\n",
       "      <td>Tartiblash 1</td>\n",
       "      <td>Boshlangich</td>\n",
       "      <td>py</td>\n",
       "      <td>Qabul qilindi</td>\n",
       "      <td>21</td>\n",
       "      <td>10</td>\n",
       "      <td>6212</td>\n",
       "      <td>2022-07-22 06:53:48</td>\n",
       "    </tr>\n",
       "    <tr>\n",
       "      <th>68801</th>\n",
       "      <td>69925</td>\n",
       "      <td>Ozodbek</td>\n",
       "      <td>Funksiyalar | add</td>\n",
       "      <td>Boshlangich</td>\n",
       "      <td>py</td>\n",
       "      <td>Ishlashdaki xatolik</td>\n",
       "      <td>1</td>\n",
       "      <td>10</td>\n",
       "      <td>6196</td>\n",
       "      <td>2022-07-22 06:57:37</td>\n",
       "    </tr>\n",
       "    <tr>\n",
       "      <th>68802</th>\n",
       "      <td>69926</td>\n",
       "      <td>Ozodbek</td>\n",
       "      <td>Funksiyalar | add</td>\n",
       "      <td>Boshlangich</td>\n",
       "      <td>py</td>\n",
       "      <td>Object not found</td>\n",
       "      <td>1</td>\n",
       "      <td>1</td>\n",
       "      <td>6376</td>\n",
       "      <td>2022-07-22 06:58:11</td>\n",
       "    </tr>\n",
       "  </tbody>\n",
       "</table>\n",
       "<p>45595 rows × 10 columns</p>\n",
       "</div>"
      ],
      "text/plain": [
       "          id                  user          problem_title problem_difficulty  \\\n",
       "0          4  nazarbek_baltabaev_2  Ikki sonni yig`indisi        Boshlangich   \n",
       "2          6             TimurXboy  Ikki sonni yig`indisi        Boshlangich   \n",
       "3          7        rustam_ramanov  Ikki sonni yig`indisi        Boshlangich   \n",
       "4          8             TimurXboy  Ikki sonni yig`indisi        Boshlangich   \n",
       "5          9             TimurXboy  Ikki sonni yig`indisi        Boshlangich   \n",
       "...      ...                   ...                    ...                ...   \n",
       "68798  69922               Ozodbek          4 va 6 yoki 5             Normal   \n",
       "68799  69923               Ozodbek  Tenglamalar sistemasi            Asoslar   \n",
       "68800  69924               Ozodbek           Tartiblash 1        Boshlangich   \n",
       "68801  69925               Ozodbek      Funksiyalar | add        Boshlangich   \n",
       "68802  69926               Ozodbek      Funksiyalar | add        Boshlangich   \n",
       "\n",
       "      lang                     verdict  test_case_number  time  memory  \\\n",
       "0       py               Qabul qilindi                 1     0       0   \n",
       "2       py               Qabul qilindi                 1     0       0   \n",
       "3       py             Noto'g'ri javob                 1     0       0   \n",
       "4       py  Vaqt chegarasi oshib ketdi                 1     0       0   \n",
       "5       py         Ishlashdaki xatolik                 1     0       0   \n",
       "...    ...                         ...               ...   ...     ...   \n",
       "68798   py               Qabul qilindi                 4    10    6156   \n",
       "68799   py               Qabul qilindi                 3    10    6252   \n",
       "68800   py               Qabul qilindi                21    10    6212   \n",
       "68801   py         Ishlashdaki xatolik                 1    10    6196   \n",
       "68802   py            Object not found                 1     1    6376   \n",
       "\n",
       "                   created  \n",
       "0      2021-02-03 09:26:10  \n",
       "2      2021-02-03 09:26:10  \n",
       "3      2021-02-03 09:26:10  \n",
       "4      2021-02-03 09:26:10  \n",
       "5      2021-02-03 09:26:10  \n",
       "...                    ...  \n",
       "68798  2022-07-22 06:38:14  \n",
       "68799  2022-07-22 06:46:37  \n",
       "68800  2022-07-22 06:53:48  \n",
       "68801  2022-07-22 06:57:37  \n",
       "68802  2022-07-22 06:58:11  \n",
       "\n",
       "[45595 rows x 10 columns]"
      ]
     },
     "execution_count": 16,
     "metadata": {},
     "output_type": "execute_result"
    }
   ],
   "source": [
    "df2 = df.drop_duplicates(['user', 'problem_title', 'verdict'])\n",
    "df2"
   ]
  },
  {
   "cell_type": "code",
   "execution_count": 17,
   "metadata": {},
   "outputs": [
    {
     "data": {
      "text/plain": [
       "problem_title\n",
       "Ikki sonni yig`indisi                287\n",
       "Ikki sondan kattasi                  260\n",
       "Statistika elementlari               182\n",
       "Ildizlar yig'indisi                  177\n",
       "Ildizlar yig'indisi 2                 54\n",
       "                                    ... \n",
       "Pandas | Series | get_mean             1\n",
       "Pandas | Series | get_peak_locs        1\n",
       "Pandas | Series | get_days             2\n",
       "Pandas | DataFrame | rename_job        2\n",
       "Pandas | DataFrame | get_youngest      2\n",
       "Name: verdict, Length: 1228, dtype: int64"
      ]
     },
     "execution_count": 17,
     "metadata": {},
     "output_type": "execute_result"
    }
   ],
   "source": [
    "by_problem = df2.groupby('problem_title', sort=False)  # masala bo'yicha guruhlash\n",
    "by_problem['verdict'].apply(lambda s: (s == 'Qabul qilindi').sum())"
   ]
  },
  {
   "cell_type": "markdown",
   "metadata": {},
   "source": [
    "<br>\n",
    "\n",
    "##### Qiyinchiligi bo'yicha masalalar sonini aniqlash"
   ]
  },
  {
   "cell_type": "code",
   "execution_count": 18,
   "metadata": {},
   "outputs": [
    {
     "data": {
      "text/plain": [
       "problem_difficulty\n",
       "Asoslar        278\n",
       "Boshlangich    155\n",
       "Ilg'or         174\n",
       "Normal         297\n",
       "O'rtacha       264\n",
       "Qiyin           60\n",
       "Name: id, dtype: int64"
      ]
     },
     "execution_count": 18,
     "metadata": {},
     "output_type": "execute_result"
    }
   ],
   "source": [
    "by_difficulty = df.drop_duplicates('problem_title').groupby('problem_difficulty')\n",
    "by_difficulty['id'].count()"
   ]
  },
  {
   "cell_type": "markdown",
   "metadata": {},
   "source": [
    "<br>\n",
    "\n",
    "##### Masalani nomi raqam bilan boshlanadiganlarni aniqlash"
   ]
  },
  {
   "cell_type": "code",
   "execution_count": 58,
   "metadata": {},
   "outputs": [
    {
     "data": {
      "text/plain": [
       "array(['4 xonali sonni topish', '4 xonali sonlar', \"6 ga bo'linishi\",\n",
       "       '4 va 6 yoki 5', \"4 ga bo'linadiganlar\", \"3 ga bo'linmaydiganlar\",\n",
       "       '73+81-32^84%101*115/116', '0 ga eng yaqini #1',\n",
       "       '0 ga eng yaqini #2', '0 ga eng yaqini #3', '4 xonali son',\n",
       "       '3 sonni tiklash', \"1000 gacha bo'lgan sonlar\", '3 xonali sonlar',\n",
       "       '6 yoki 7', '8 va 6', \"5 ta no'l\", '2 ni darajasi',\n",
       "       '2 ni darajasi #2', '2 ni darajalari', '3 ta sonni medianasi',\n",
       "       '1 marta uchragan son #1', '1 marta uchragan son #2',\n",
       "       '1000-daraja', '3 ta son', '5 ta sonni topish', '10 ga qoldiqi',\n",
       "       '4 xonali sonni topish #2', '3 xonali sonlar #2',\n",
       "       '9 xonali sonlar', '7 ga qoldiqi', '7 ga qoldiqi #2',\n",
       "       '2038-yil muommasi', \"2 ta o'zgaruvchi\", \"100 ta o'zgaruvchi\",\n",
       "       '6 xonali son', '2 ta simvol', \"2 ni darajasiga bo'linishi\",\n",
       "       \"3 ni darajasiga bo'linishi\", '2+2!=4', '3 ta tub son',\n",
       "       '3 ta kesma', \"3 ta o'ta tub son\", '1 xonali sonlar', '2000 ms',\n",
       "       '100 Tub #1', '100 Tub #2', '3 ta unli', '3 raqami #1',\n",
       "       '3 raqami #2'], dtype=object)"
      ]
     },
     "execution_count": 58,
     "metadata": {},
     "output_type": "execute_result"
    }
   ],
   "source": [
    "df2 = df.drop_duplicates('problem_title')\n",
    "s = df2[df2['problem_title'].str[0].str.isdigit()]['problem_title']\n",
    "s.values"
   ]
  },
  {
   "cell_type": "markdown",
   "metadata": {},
   "source": [
    "<br>\n",
    "\n",
    "##### Sanalar bilan ishlash"
   ]
  },
  {
   "cell_type": "code",
   "execution_count": 61,
   "metadata": {},
   "outputs": [],
   "source": [
    "from dateutil.parser import parse\n",
    "\n",
    "df['created'] = df['created'].apply(lambda s: parse(s))\n"
   ]
  },
  {
   "cell_type": "code",
   "execution_count": 63,
   "metadata": {},
   "outputs": [
    {
     "data": {
      "text/plain": [
       "0        2021\n",
       "1        2021\n",
       "2        2021\n",
       "3        2021\n",
       "4        2021\n",
       "         ... \n",
       "68803    2022\n",
       "68804    2022\n",
       "68805    2022\n",
       "68806    2022\n",
       "68807    2022\n",
       "Name: created, Length: 68808, dtype: int64"
      ]
     },
     "execution_count": 63,
     "metadata": {},
     "output_type": "execute_result"
    }
   ],
   "source": [
    "df['created'].dt.year"
   ]
  },
  {
   "cell_type": "markdown",
   "metadata": {},
   "source": [
    "2022-yildaki urinishlar soni"
   ]
  },
  {
   "cell_type": "code",
   "execution_count": 67,
   "metadata": {},
   "outputs": [
    {
     "data": {
      "text/plain": [
       "48674"
      ]
     },
     "execution_count": 67,
     "metadata": {},
     "output_type": "execute_result"
    }
   ],
   "source": [
    "(df['created'].dt.year == 2022).sum()"
   ]
  },
  {
   "cell_type": "markdown",
   "metadata": {},
   "source": [
    "Eng ko'p urinish qilingan yil kuni"
   ]
  },
  {
   "cell_type": "code",
   "execution_count": 73,
   "metadata": {},
   "outputs": [
    {
     "data": {
      "text/plain": [
       "created_date\n",
       "2021-02-03    259\n",
       "2021-02-04     58\n",
       "2021-02-05     76\n",
       "2021-02-06    169\n",
       "2021-02-07     35\n",
       "             ... \n",
       "2022-07-18     17\n",
       "2022-07-19     26\n",
       "2022-07-20     22\n",
       "2022-07-21     36\n",
       "2022-07-22     38\n",
       "Name: id, Length: 440, dtype: int64"
      ]
     },
     "execution_count": 73,
     "metadata": {},
     "output_type": "execute_result"
    }
   ],
   "source": [
    "df2 = df.copy()\n",
    "df2['created_date'] = df2['created'].dt.date\n",
    "by_created = df2.groupby('created_date')['id'].count()\n",
    "by_created"
   ]
  },
  {
   "cell_type": "code",
   "execution_count": 75,
   "metadata": {},
   "outputs": [
    {
     "data": {
      "text/plain": [
       "created_date\n",
       "2022-02-13    1306\n",
       "Name: id, dtype: int64"
      ]
     },
     "execution_count": 75,
     "metadata": {},
     "output_type": "execute_result"
    }
   ],
   "source": [
    "by_created[by_created == by_created.max()]"
   ]
  },
  {
   "cell_type": "markdown",
   "metadata": {},
   "source": [
    "Hafta kuni bo'yicha urinishlar soni"
   ]
  },
  {
   "cell_type": "code",
   "execution_count": 76,
   "metadata": {},
   "outputs": [
    {
     "data": {
      "text/plain": [
       "created_dayofweek\n",
       "0    10585\n",
       "1     8117\n",
       "2    10689\n",
       "3     9432\n",
       "4    12019\n",
       "5     8355\n",
       "6     9611\n",
       "Name: id, dtype: int64"
      ]
     },
     "execution_count": 76,
     "metadata": {},
     "output_type": "execute_result"
    }
   ],
   "source": [
    "df2 = df.copy()\n",
    "df2['created_dayofweek'] = df2['created'].dt.dayofweek\n",
    "by_created = df2.groupby('created_dayofweek')['id'].count()\n",
    "by_created"
   ]
  },
  {
   "cell_type": "markdown",
   "metadata": {},
   "source": [
    "Soat davri bo'yicha urinishlar soni"
   ]
  },
  {
   "cell_type": "code",
   "execution_count": 83,
   "metadata": {},
   "outputs": [
    {
     "name": "stdout",
     "output_type": "stream",
     "text": [
      "0 3 441\n",
      "3 8 9691\n",
      "8 12 16346\n",
      "12 18 33607\n",
      "18 21 7879\n",
      "22 24 257\n"
     ]
    }
   ],
   "source": [
    "s = df['created'].apply(lambda dt: dt.hour)\n",
    "\n",
    "periods = [(0, 3), (3, 8), (8, 12), (12, 18), (18, 21), (22, 24)]\n",
    "for start, end in periods:\n",
    "    count = ((s >= start) & (s < end)).sum()\n",
    "    print(start, end, count)\n"
   ]
  },
  {
   "cell_type": "markdown",
   "metadata": {},
   "source": [
    "<br>\n",
    "\n",
    "#### Mustaqil bajarish uchun topshiriqlar:\n",
    "\n",
    "\n",
    "1. Foydalanuvchilar orasida eng uzun nomlini aniqlash.\n",
    "2. <b>verdict</b> qiymati <i>Vaqt chegarasi oshib ketdi</i> bo'lganlar orasida <b>time</b> qiymati eng katta bo'lganlarini aniqlash.\n",
    "3. Masala qiyinchiligi <b>Qiyin</b> bo'lganlar orasida eng ko'p urinish qilingan masalani aniqlash.\n",
    "4. <b>id</b> qiymatini raqamlar yig'indisi juft bo'lganlarni aniqlash.\n",
    "5. Qancha masalada urinishlari orasida kamida <b>2 ta</b>, tili <b>cpp</b> bo'lganlarni aniqlash.\n",
    "6. Har bir masalani ishlaganligi uchun masalani qiyinchligidan kelib chiqib ball berilsa(1-6), eng ko'p ball to'plagan foydalanuvchini aniqlang. \n",
    "\n",
    "<hr>"
   ]
  }
 ],
 "metadata": {
  "kernelspec": {
   "display_name": "Python 3.9.7 64-bit",
   "language": "python",
   "name": "python3"
  },
  "language_info": {
   "codemirror_mode": {
    "name": "ipython",
    "version": 3
   },
   "file_extension": ".py",
   "mimetype": "text/x-python",
   "name": "python",
   "nbconvert_exporter": "python",
   "pygments_lexer": "ipython3",
   "version": "3.9.7"
  },
  "orig_nbformat": 4,
  "vscode": {
   "interpreter": {
    "hash": "7734367fe881fb588eedb8e984756cdc75781eb471c5b4b7678a854a7548992c"
   }
  }
 },
 "nbformat": 4,
 "nbformat_minor": 2
}
